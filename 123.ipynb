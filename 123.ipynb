{
 "cells": [
  {
   "cell_type": "code",
   "execution_count": 5,
   "metadata": {},
   "outputs": [],
   "source": [
    "import pandas as pd\n",
    "df = pd.read_csv(\"data_season.csv\")\n",
    "\n",
    "\n"
   ]
  },
  {
   "cell_type": "code",
   "execution_count": 6,
   "metadata": {},
   "outputs": [
    {
     "name": "stderr",
     "output_type": "stream",
     "text": [
      "C:\\Users\\pujar\\AppData\\Local\\Temp\\ipykernel_17944\\3259449123.py:6: FutureWarning: A value is trying to be set on a copy of a DataFrame or Series through chained assignment using an inplace method.\n",
      "The behavior will change in pandas 3.0. This inplace method will never work because the intermediate object on which we are setting values always behaves as a copy.\n",
      "\n",
      "For example, when doing 'df[col].method(value, inplace=True)', try using 'df.method({col: value}, inplace=True)' or df[col] = df[col].method(value) instead, to perform the operation inplace on the original object.\n",
      "\n",
      "\n",
      "  df[\"Soil type\"].fillna(df[\"Soil type\"].mode()[0], inplace=True)\n"
     ]
    },
    {
     "data": {
      "text/plain": [
       "((2526, 10), (632, 10))"
      ]
     },
     "execution_count": 6,
     "metadata": {},
     "output_type": "execute_result"
    }
   ],
   "source": [
    "from sklearn.model_selection import train_test_split\n",
    "from sklearn.preprocessing import LabelEncoder, StandardScaler\n",
    "import numpy as np\n",
    "\n",
    "# Fill missing values in Soil type with the most frequent value\n",
    "df[\"Soil type\"].fillna(df[\"Soil type\"].mode()[0], inplace=True)\n",
    "\n",
    "# Encode categorical features\n",
    "label_encoders = {}\n",
    "categorical_features = [\"Location\", \"Soil type\", \"Irrigation\", \"Crops\", \"Season\"]\n",
    "\n",
    "for col in categorical_features:\n",
    "    le = LabelEncoder()\n",
    "    df[col] = le.fit_transform(df[col])\n",
    "    label_encoders[col] = le\n",
    "\n",
    "# Define features and target variable\n",
    "X = df.drop(columns=[\"yeilds\", \"price\"])  # Features\n",
    "y_yield = df[\"yeilds\"]  # Target for yield prediction\n",
    "y_price = df[\"price\"]  # Target for price prediction\n",
    "\n",
    "# Standardize numerical features\n",
    "scaler = StandardScaler()\n",
    "X_scaled = scaler.fit_transform(X)\n",
    "\n",
    "# Split into training and testing sets (80-20 split)\n",
    "X_train, X_test, y_yield_train, y_yield_test = train_test_split(X_scaled, y_yield, test_size=0.2, random_state=42)\n",
    "X_train, X_test, y_price_train, y_price_test = train_test_split(X_scaled, y_price, test_size=0.2, random_state=42)\n",
    "\n",
    "# Return dataset shape\n",
    "X_train.shape, X_test.shape\n"
   ]
  },
  {
   "cell_type": "code",
   "execution_count": 7,
   "metadata": {},
   "outputs": [
    {
     "name": "stdout",
     "output_type": "stream",
     "text": [
      "Random Forest - R2: -0.0028380763084312477 RMSE: 58077.14800343766\n",
      "XGBoost - R2: 0.001036999685480433 RMSE: 57964.831171784506\n"
     ]
    }
   ],
   "source": [
    "from sklearn.ensemble import RandomForestRegressor\n",
    "from xgboost import XGBRegressor\n",
    "from sklearn.metrics import mean_squared_error, r2_score\n",
    "import numpy as np\n",
    "\n",
    "# Train Random Forest\n",
    "rf = RandomForestRegressor(n_estimators=50, random_state=42)\n",
    "rf.fit(X_train, y_yield_train)\n",
    "rf_yield_pred = rf.predict(X_test)\n",
    "\n",
    "# Train XGBoost\n",
    "xgb = XGBRegressor(n_estimators=50, random_state=42)\n",
    "xgb.fit(X_train, y_yield_train)\n",
    "xgb_yield_pred = xgb.predict(X_test)\n",
    "\n",
    "# Compute metrics\n",
    "rf_yield_r2 = r2_score(y_yield_test, rf_yield_pred)\n",
    "rf_yield_rmse = np.sqrt(mean_squared_error(y_yield_test, rf_yield_pred))\n",
    "\n",
    "xgb_yield_r2 = r2_score(y_yield_test, xgb_yield_pred)\n",
    "xgb_yield_rmse = np.sqrt(mean_squared_error(y_yield_test, xgb_yield_pred))\n",
    "\n",
    "# Print results\n",
    "print(\"Random Forest - R2:\", rf_yield_r2, \"RMSE:\", rf_yield_rmse)\n",
    "print(\"XGBoost - R2:\", xgb_yield_r2, \"RMSE:\", xgb_yield_rmse)\n"
   ]
  },
  {
   "cell_type": "code",
   "execution_count": 8,
   "metadata": {},
   "outputs": [
    {
     "data": {
      "text/plain": [
       "Index(['Year', 'Location', 'Area', 'Rainfall', 'Temperature', 'Soil type',\n",
       "       'Irrigation', 'yeilds', 'Humidity', 'Crops', 'price', 'Season'],\n",
       "      dtype='object')"
      ]
     },
     "execution_count": 8,
     "metadata": {},
     "output_type": "execute_result"
    }
   ],
   "source": [
    "df.columns"
   ]
  },
  {
   "cell_type": "code",
   "execution_count": null,
   "metadata": {},
   "outputs": [],
   "source": []
  }
 ],
 "metadata": {
  "kernelspec": {
   "display_name": "Python 3",
   "language": "python",
   "name": "python3"
  },
  "language_info": {
   "codemirror_mode": {
    "name": "ipython",
    "version": 3
   },
   "file_extension": ".py",
   "mimetype": "text/x-python",
   "name": "python",
   "nbconvert_exporter": "python",
   "pygments_lexer": "ipython3",
   "version": "3.10.0"
  }
 },
 "nbformat": 4,
 "nbformat_minor": 2
}
